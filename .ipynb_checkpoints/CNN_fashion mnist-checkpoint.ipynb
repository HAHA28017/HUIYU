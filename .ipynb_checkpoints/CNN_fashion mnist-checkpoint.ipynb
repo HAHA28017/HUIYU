{
 "cells": [
  {
   "cell_type": "code",
   "execution_count": 1,
   "metadata": {},
   "outputs": [],
   "source": [
    "%matplotlib inline\n",
    "\n",
    "import numpy as np\n",
    "import matplotlib.pyplot as plt\n",
    "import pandas as pd"
   ]
  },
  {
   "cell_type": "code",
   "execution_count": 2,
   "metadata": {},
   "outputs": [],
   "source": [
    "from tensorflow.keras.datasets import mnist"
   ]
  },
  {
   "cell_type": "code",
   "execution_count": 3,
   "metadata": {},
   "outputs": [],
   "source": [
    "(x_train, y_train), (x_test, y_test) = fashion mnist.load_data()"
   ]
  },
  {
   "cell_type": "code",
   "execution_count": 4,
   "metadata": {},
   "outputs": [
    {
     "data": {
      "text/plain": [
       "(60000, 28, 28)"
      ]
     },
     "execution_count": 4,
     "metadata": {},
     "output_type": "execute_result"
    }
   ],
   "source": [
    "x_train.shape"
   ]
  },
  {
   "cell_type": "code",
   "execution_count": 5,
   "metadata": {},
   "outputs": [],
   "source": [
    "#一個channel ,所以要改寫為(28.28.1)"
   ]
  },
  {
   "cell_type": "code",
   "execution_count": 6,
   "metadata": {},
   "outputs": [],
   "source": [
    "x_train=x_train.reshape(60000,28,28,1)/255"
   ]
  },
  {
   "cell_type": "code",
   "execution_count": 7,
   "metadata": {},
   "outputs": [],
   "source": [
    "x_test = x_test.reshape(10000,28,28,1)/255"
   ]
  },
  {
   "cell_type": "code",
   "execution_count": 8,
   "metadata": {},
   "outputs": [
    {
     "data": {
      "text/plain": [
       "(28, 28, 1)"
      ]
     },
     "execution_count": 8,
     "metadata": {},
     "output_type": "execute_result"
    }
   ],
   "source": [
    "x_train[66].shape"
   ]
  },
  {
   "cell_type": "code",
   "execution_count": 9,
   "metadata": {},
   "outputs": [
    {
     "data": {
      "text/plain": [
       "6"
      ]
     },
     "execution_count": 9,
     "metadata": {},
     "output_type": "execute_result"
    }
   ],
   "source": [
    "y_train[66]"
   ]
  },
  {
   "cell_type": "code",
   "execution_count": 10,
   "metadata": {},
   "outputs": [],
   "source": [
    "from tensorflow.keras.utils import to_categorical"
   ]
  },
  {
   "cell_type": "code",
   "execution_count": 11,
   "metadata": {},
   "outputs": [],
   "source": [
    "y_train = to_categorical(y_train)\n",
    "y_test = to_categorical (y_test) "
   ]
  },
  {
   "cell_type": "code",
   "execution_count": 12,
   "metadata": {},
   "outputs": [],
   "source": [
    "#讀入必要函式"
   ]
  },
  {
   "cell_type": "code",
   "execution_count": 13,
   "metadata": {},
   "outputs": [],
   "source": [
    "from tensorflow.keras.models import Sequential\n",
    "from tensorflow.keras.layers import Conv2D, MaxPooling2D\n",
    "from tensorflow.keras.layers import Dense, Flatten\n",
    "from tensorflow.keras.optimizers import SGD"
   ]
  },
  {
   "cell_type": "code",
   "execution_count": 14,
   "metadata": {},
   "outputs": [],
   "source": [
    "#機器學習第一步：打造函式學習機"
   ]
  },
  {
   "cell_type": "code",
   "execution_count": 15,
   "metadata": {},
   "outputs": [],
   "source": [
    "model = Sequential()"
   ]
  },
  {
   "cell_type": "code",
   "execution_count": 16,
   "metadata": {},
   "outputs": [],
   "source": [
    "model.add(Conv2D(16,(3,3),padding='same',\n",
    "         input_shape=(28,28,1),\n",
    "         activation='relu'))"
   ]
  },
  {
   "cell_type": "markdown",
   "metadata": {},
   "source": [
    "model.add (Maxpooling2D (pool_size=(2,2)))"
   ]
  },
  {
   "cell_type": "code",
   "execution_count": 17,
   "metadata": {},
   "outputs": [],
   "source": [
    "model.add (MaxPooling2D (pool_size=(2,2)))"
   ]
  },
  {
   "cell_type": "code",
   "execution_count": 18,
   "metadata": {},
   "outputs": [],
   "source": [
    "model.add(Conv2D(32,(3,3),padding='same',\n",
    "                activation='relu'))"
   ]
  },
  {
   "cell_type": "code",
   "execution_count": 19,
   "metadata": {},
   "outputs": [],
   "source": [
    "#輸出14,14,32"
   ]
  },
  {
   "cell_type": "code",
   "execution_count": 20,
   "metadata": {},
   "outputs": [],
   "source": [
    "model.add (MaxPooling2D(pool_size=(2,2)))"
   ]
  },
  {
   "cell_type": "code",
   "execution_count": 21,
   "metadata": {},
   "outputs": [],
   "source": [
    "#output7.7.32"
   ]
  },
  {
   "cell_type": "code",
   "execution_count": 22,
   "metadata": {},
   "outputs": [],
   "source": [
    "model.add(Conv2D(64,(3,3),padding='same',\n",
    "                activation='relu'))"
   ]
  },
  {
   "cell_type": "code",
   "execution_count": 23,
   "metadata": {},
   "outputs": [],
   "source": [
    "model.add(MaxPooling2D(pool_size=(2,2)))"
   ]
  },
  {
   "cell_type": "code",
   "execution_count": 24,
   "metadata": {},
   "outputs": [],
   "source": [
    "model.add (Flatten())"
   ]
  },
  {
   "cell_type": "code",
   "execution_count": 25,
   "metadata": {},
   "outputs": [],
   "source": [
    "model.add (Dense (10,activation='softmax'))"
   ]
  },
  {
   "cell_type": "code",
   "execution_count": 26,
   "metadata": {},
   "outputs": [],
   "source": [
    "#檢視一下"
   ]
  },
  {
   "cell_type": "code",
   "execution_count": 27,
   "metadata": {},
   "outputs": [
    {
     "name": "stdout",
     "output_type": "stream",
     "text": [
      "Model: \"sequential\"\n",
      "_________________________________________________________________\n",
      "Layer (type)                 Output Shape              Param #   \n",
      "=================================================================\n",
      "conv2d (Conv2D)              (None, 28, 28, 16)        160       \n",
      "_________________________________________________________________\n",
      "max_pooling2d (MaxPooling2D) (None, 14, 14, 16)        0         \n",
      "_________________________________________________________________\n",
      "conv2d_1 (Conv2D)            (None, 14, 14, 32)        4640      \n",
      "_________________________________________________________________\n",
      "max_pooling2d_1 (MaxPooling2 (None, 7, 7, 32)          0         \n",
      "_________________________________________________________________\n",
      "conv2d_2 (Conv2D)            (None, 7, 7, 64)          18496     \n",
      "_________________________________________________________________\n",
      "max_pooling2d_2 (MaxPooling2 (None, 3, 3, 64)          0         \n",
      "_________________________________________________________________\n",
      "flatten (Flatten)            (None, 576)               0         \n",
      "_________________________________________________________________\n",
      "dense (Dense)                (None, 10)                5770      \n",
      "=================================================================\n",
      "Total params: 29,066\n",
      "Trainable params: 29,066\n",
      "Non-trainable params: 0\n",
      "_________________________________________________________________\n"
     ]
    }
   ],
   "source": [
    "model.summary()"
   ]
  },
  {
   "cell_type": "code",
   "execution_count": 28,
   "metadata": {},
   "outputs": [
    {
     "data": {
      "text/plain": [
       "4640"
      ]
     },
     "execution_count": 28,
     "metadata": {},
     "output_type": "execute_result"
    }
   ],
   "source": [
    "#\n",
    "(3*3*16+1)*32"
   ]
  },
  {
   "cell_type": "code",
   "execution_count": 29,
   "metadata": {},
   "outputs": [],
   "source": [
    "model.compile(loss='mse',optimizer=SGD(lr=0.072),\n",
    "             metrics=['accuracy'])"
   ]
  },
  {
   "cell_type": "code",
   "execution_count": 66,
   "metadata": {},
   "outputs": [
    {
     "name": "stdout",
     "output_type": "stream",
     "text": [
      "Train on 60000 samples\n",
      "Epoch 1/30\n",
      "60000/60000 [==============================] - 34s 572us/sample - loss: 0.0043 - accuracy: 0.9731\n",
      "Epoch 2/30\n",
      "60000/60000 [==============================] - 35s 578us/sample - loss: 0.0042 - accuracy: 0.9736\n",
      "Epoch 3/30\n",
      "60000/60000 [==============================] - 34s 566us/sample - loss: 0.0041 - accuracy: 0.9742\n",
      "Epoch 4/30\n",
      "60000/60000 [==============================] - 35s 576us/sample - loss: 0.0040 - accuracy: 0.9747\n",
      "Epoch 5/30\n",
      "60000/60000 [==============================] - 34s 572us/sample - loss: 0.0039 - accuracy: 0.9758\n",
      "Epoch 6/30\n",
      "60000/60000 [==============================] - 35s 578us/sample - loss: 0.0038 - accuracy: 0.9761\n",
      "Epoch 7/30\n",
      "60000/60000 [==============================] - 35s 580us/sample - loss: 0.0037 - accuracy: 0.9770\n",
      "Epoch 8/30\n",
      "60000/60000 [==============================] - 34s 572us/sample - loss: 0.0036 - accuracy: 0.9770\n",
      "Epoch 9/30\n",
      "60000/60000 [==============================] - 34s 570us/sample - loss: 0.0036 - accuracy: 0.9783\n",
      "Epoch 10/30\n",
      "60000/60000 [==============================] - 34s 571us/sample - loss: 0.0035 - accuracy: 0.9780\n",
      "Epoch 11/30\n",
      "60000/60000 [==============================] - 34s 568us/sample - loss: 0.0034 - accuracy: 0.9789- loss: 0.0\n",
      "Epoch 12/30\n",
      "60000/60000 [==============================] - 34s 566us/sample - loss: 0.0033 - accuracy: 0.9786\n",
      "Epoch 13/30\n",
      "60000/60000 [==============================] - 34s 572us/sample - loss: 0.0033 - accuracy: 0.9798\n",
      "Epoch 14/30\n",
      "60000/60000 [==============================] - 34s 570us/sample - loss: 0.0032 - accuracy: 0.9796\n",
      "Epoch 15/30\n",
      "60000/60000 [==============================] - 34s 571us/sample - loss: 0.0031 - accuracy: 0.9807\n",
      "Epoch 16/30\n",
      "60000/60000 [==============================] - 34s 570us/sample - loss: 0.0031 - accuracy: 0.9807\n",
      "Epoch 17/30\n",
      "60000/60000 [==============================] - 34s 570us/sample - loss: 0.0030 - accuracy: 0.9815\n",
      "Epoch 18/30\n",
      "60000/60000 [==============================] - 34s 567us/sample - loss: 0.0030 - accuracy: 0.9818\n",
      "Epoch 19/30\n",
      "60000/60000 [==============================] - 34s 566us/sample - loss: 0.0029 - accuracy: 0.9821\n",
      "Epoch 20/30\n",
      "60000/60000 [==============================] - 35s 580us/sample - loss: 0.0029 - accuracy: 0.9821\n",
      "Epoch 21/30\n",
      "60000/60000 [==============================] - 34s 566us/sample - loss: 0.0028 - accuracy: 0.9825\n",
      "Epoch 22/30\n",
      "60000/60000 [==============================] - 34s 564us/sample - loss: 0.0028 - accuracy: 0.9827\n",
      "Epoch 23/30\n",
      "60000/60000 [==============================] - 33s 558us/sample - loss: 0.0028 - accuracy: 0.9831\n",
      "Epoch 24/30\n",
      "60000/60000 [==============================] - 34s 559us/sample - loss: 0.0027 - accuracy: 0.9837\n",
      "Epoch 25/30\n",
      "60000/60000 [==============================] - 34s 566us/sample - loss: 0.0027 - accuracy: 0.9837\n",
      "Epoch 26/30\n",
      "60000/60000 [==============================] - 34s 563us/sample - loss: 0.0026 - accuracy: 0.9839\n",
      "Epoch 27/30\n",
      "60000/60000 [==============================] - 34s 564us/sample - loss: 0.0026 - accuracy: 0.9842\n",
      "Epoch 28/30\n",
      "60000/60000 [==============================] - 33s 556us/sample - loss: 0.0026 - accuracy: 0.9843\n",
      "Epoch 29/30\n",
      "60000/60000 [==============================] - 34s 568us/sample - loss: 0.0025 - accuracy: 0.9843\n",
      "Epoch 30/30\n",
      "60000/60000 [==============================] - 34s 562us/sample - loss: 0.0025 - accuracy: 0.9840\n"
     ]
    }
   ],
   "source": [
    "history=model.fit (x_train, y_train, batch_size=128, epochs=30)"
   ]
  },
  {
   "cell_type": "code",
   "execution_count": 67,
   "metadata": {},
   "outputs": [],
   "source": [
    "import matplotlib.pyplot as plot"
   ]
  },
  {
   "cell_type": "code",
   "execution_count": 68,
   "metadata": {},
   "outputs": [],
   "source": [
    "#第三步驟：預測"
   ]
  },
  {
   "cell_type": "code",
   "execution_count": 69,
   "metadata": {},
   "outputs": [],
   "source": [
    "result=model.predict_classes(x_test)"
   ]
  },
  {
   "cell_type": "code",
   "execution_count": 70,
   "metadata": {},
   "outputs": [],
   "source": [
    "def my_predict(n):\n",
    "    print('我的CNN預測是', result[n])\n",
    "    x=x_test[n].reshape(28,28)\n",
    "    plt.imshow(x,cmap='Greys')"
   ]
  },
  {
   "cell_type": "code",
   "execution_count": 71,
   "metadata": {},
   "outputs": [],
   "source": [
    "from ipywidgets import interact_manual"
   ]
  },
  {
   "cell_type": "code",
   "execution_count": 72,
   "metadata": {},
   "outputs": [
    {
     "data": {
      "application/vnd.jupyter.widget-view+json": {
       "model_id": "017d25b33c4e4599b35a1757335d9dae",
       "version_major": 2,
       "version_minor": 0
      },
      "text/plain": [
       "interactive(children=(IntSlider(value=4999, description='n', max=9999), Button(description='Run Interact', sty…"
      ]
     },
     "metadata": {},
     "output_type": "display_data"
    },
    {
     "data": {
      "text/plain": [
       "<function __main__.my_predict(n)>"
      ]
     },
     "execution_count": 72,
     "metadata": {},
     "output_type": "execute_result"
    }
   ],
   "source": [
    "interact_manual(my_predict,n=(0,9999))"
   ]
  },
  {
   "cell_type": "code",
   "execution_count": 73,
   "metadata": {},
   "outputs": [
    {
     "name": "stdout",
     "output_type": "stream",
     "text": [
      "10000/10000 [==============================] - 2s 247us/sample - loss: 0.0030 - accuracy: 0.9807\n"
     ]
    }
   ],
   "source": [
    "score=model.evaluate(x_test,y_test)"
   ]
  },
  {
   "cell_type": "code",
   "execution_count": 74,
   "metadata": {},
   "outputs": [],
   "source": [
    "loss,acc=score"
   ]
  },
  {
   "cell_type": "code",
   "execution_count": 75,
   "metadata": {},
   "outputs": [
    {
     "name": "stdout",
     "output_type": "stream",
     "text": [
      "測試資料的正確率 0.9807\n"
     ]
    }
   ],
   "source": [
    "print('測試資料的正確率',acc)"
   ]
  },
  {
   "cell_type": "code",
   "execution_count": 76,
   "metadata": {},
   "outputs": [],
   "source": [
    "import matplotlib.pyplot as plot"
   ]
  },
  {
   "cell_type": "code",
   "execution_count": 77,
   "metadata": {},
   "outputs": [],
   "source": [
    "#這次所做的改變是，用不同的訓練次數觀察訓練的次數多寡的準確度差別"
   ]
  }
 ],
 "metadata": {
  "kernelspec": {
   "display_name": "Python 3",
   "language": "python",
   "name": "python3"
  },
  "language_info": {
   "codemirror_mode": {
    "name": "ipython",
    "version": 3
   },
   "file_extension": ".py",
   "mimetype": "text/x-python",
   "name": "python",
   "nbconvert_exporter": "python",
   "pygments_lexer": "ipython3",
   "version": "3.7.4"
  }
 },
 "nbformat": 4,
 "nbformat_minor": 2
}
