{
 "cells": [
  {
   "cell_type": "code",
   "execution_count": 2,
   "metadata": {},
   "outputs": [],
   "source": [
    "w = 1\n",
    "w = w + 1"
   ]
  },
  {
   "cell_type": "code",
   "execution_count": 3,
   "metadata": {},
   "outputs": [
    {
     "ename": "SyntaxError",
     "evalue": "invalid syntax (<ipython-input-3-f6f4d008fcd9>, line 1)",
     "output_type": "error",
     "traceback": [
      "\u001b[1;36m  File \u001b[1;32m\"<ipython-input-3-f6f4d008fcd9>\"\u001b[1;36m, line \u001b[1;32m1\u001b[0m\n\u001b[1;33m    w ==\u001b[0m\n\u001b[1;37m        ^\u001b[0m\n\u001b[1;31mSyntaxError\u001b[0m\u001b[1;31m:\u001b[0m invalid syntax\n"
     ]
    }
   ],
   "source": [
    "w =="
   ]
  },
  {
   "cell_type": "code",
   "execution_count": 4,
   "metadata": {},
   "outputs": [
    {
     "data": {
      "text/plain": [
       "False"
      ]
     },
     "execution_count": 4,
     "metadata": {},
     "output_type": "execute_result"
    }
   ],
   "source": [
    "w == 1 "
   ]
  },
  {
   "cell_type": "code",
   "execution_count": 5,
   "metadata": {},
   "outputs": [
    {
     "data": {
      "text/plain": [
       "True"
      ]
     },
     "execution_count": 5,
     "metadata": {},
     "output_type": "execute_result"
    }
   ],
   "source": [
    "w != 1"
   ]
  },
  {
   "cell_type": "code",
   "execution_count": 8,
   "metadata": {},
   "outputs": [
    {
     "name": "stdout",
     "output_type": "stream",
     "text": [
      "@!@@!@\n",
      "@!@@!@@!@\n",
      "@!@@!@@!@@!@\n",
      "@!@@!@@!@@!@@!@\n",
      "@!@@!@@!@@!@@!@@!@\n",
      "@!@@!@@!@@!@@!@@!@@!@\n",
      "@!@@!@@!@@!@@!@@!@@!@@!@\n",
      "@!@@!@@!@@!@@!@@!@@!@@!@@!@\n"
     ]
    }
   ],
   "source": [
    "while w < 10:\n",
    "    print(\"@!@\"*w)\n",
    "    w = w + 1"
   ]
  },
  {
   "cell_type": "code",
   "execution_count": 10,
   "metadata": {},
   "outputs": [
    {
     "name": "stdout",
     "output_type": "stream",
     "text": [
      ">> 嗨你好嗎\n",
      "好啦\n",
      ">> 我想吃宵夜\n",
      "好啦\n",
      ">> 那走吧\n",
      "好啦\n",
      ">> bye\n",
      "好啦\n"
     ]
    }
   ],
   "source": [
    "m = \" \"\n",
    "while m != \"bye\":\n",
    "    m = input(\">> \")\n",
    "    print(\"好啦\")"
   ]
  },
  {
   "cell_type": "code",
   "execution_count": null,
   "metadata": {},
   "outputs": [
    {
     "name": "stdout",
     "output_type": "stream",
     "text": [
      ">> 今天放假\n",
      "感嘆炎龍，讚嘆炎龍\n",
      ">> 想創業我投資\n",
      "感嘆炎龍，讚嘆炎龍\n",
      ">> 寫程式小蛋糕\n",
      "感嘆炎龍，讚嘆炎龍\n"
     ]
    }
   ],
   "source": [
    "m = \" \"\n",
    "while m != \"bye\":\n",
    "    m = input(\">> \")\n",
    "    print(\"感嘆炎龍，讚嘆炎龍\")"
   ]
  },
  {
   "cell_type": "code",
   "execution_count": null,
   "metadata": {},
   "outputs": [],
   "source": []
  }
 ],
 "metadata": {
  "kernelspec": {
   "display_name": "Python 3",
   "language": "python",
   "name": "python3"
  },
  "language_info": {
   "codemirror_mode": {
    "name": "ipython",
    "version": 3
   },
   "file_extension": ".py",
   "mimetype": "text/x-python",
   "name": "python",
   "nbconvert_exporter": "python",
   "pygments_lexer": "ipython3",
   "version": "3.7.4"
  }
 },
 "nbformat": 4,
 "nbformat_minor": 2
}
